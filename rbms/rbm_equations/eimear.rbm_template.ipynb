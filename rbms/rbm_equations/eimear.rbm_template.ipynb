{
 "metadata": {
  "name": "",
  "signature": "sha256:99327b5511e02641446a9e2b790529d6f68f4dc341fc0441658735feabfc7753"
 },
 "nbformat": 3,
 "nbformat_minor": 0,
 "worksheets": [
  {
   "cells": [
    {
     "cell_type": "markdown",
     "metadata": {},
     "source": [
      "[ipython notebook rich display capabilities](http://nbviewer.ipython.org/github/ipython/ipython/blob/1.x/examples/notebooks/Part%205%20-%20Rich%20Display%20System.ipynb)"
     ]
    },
    {
     "cell_type": "markdown",
     "metadata": {},
     "source": [
      "Ok, we want $ 0 \\leq h_\\theta(x) \\leq 1 $\n",
      "            \n",
      "Remember this representation:           \n",
      "$ h_\\theta = g(\\theta^Tx) $      \n",
      "          \n",
      "where:      \n",
      "$ g(z) = \\frac{1}{1 + e^{-z}} $       \n",
      "       \n",
      "So our final representation is:    \n",
      "$ g(z) = \\frac{1}{1 + e^{-\\theta^Tx}} $\n",
      "\n",
      "__this is the *sigmoid* or *logistic* function__"
     ]
    },
    {
     "cell_type": "markdown",
     "metadata": {},
     "source": [
      "$ p(x) $\n",
      "$ p(h|x) $\n",
      "$ p(x|h) $\n"
     ]
    },
    {
     "cell_type": "markdown",
     "metadata": {},
     "source": [
      "## Videos with topics"
     ]
    },
    {
     "cell_type": "markdown",
     "metadata": {},
     "source": [
      "__Inference in RBMs__  \n",
      "Elements of $h$ are conditionally independent, so\n",
      "\n",
      "$p(h|x) = \\prod_j p(h_j|x) $    \n",
      "where $h$ is the vector of hidden values, and $x$ the vector of visible values.\n",
      "\n",
      "For some $h_j = 1$,   \n",
      "$p(h_j = 1 | x) = {1 \\over 1 + exp(-(b_j + W_j.x))} = sigm(b_j + W_j.x)$   \n",
      "where $W$ is the weights, and $b$ the bias vector.  \n",
      "\n",
      "Similarly,\n",
      "$p(x|h) = \\prod_j p(x_j|h) $,  \n",
      "leading to\n",
      "$p(x|h) = \\prod_j sigm(c_j + h^T.W_j)$\n",
      "\n"
     ]
    },
    {
     "cell_type": "code",
     "collapsed": false,
     "input": [],
     "language": "python",
     "metadata": {},
     "outputs": []
    },
    {
     "cell_type": "code",
     "collapsed": false,
     "input": [
      "from IPython.display import YouTubeVideo\n",
      "# https://www.youtube.com/watch?v=e0Ts_7Y6hZU\n",
      "YouTubeVideo('https://www.youtube.com/watch?v=e0Ts_7Y6hZU')"
     ],
     "language": "python",
     "metadata": {},
     "outputs": [
      {
       "html": [
        "\n",
        "        <iframe\n",
        "            width=\"400\"\n",
        "            height=300\"\n",
        "            src=\"https://www.youtube.com/embed/https://www.youtube.com/watch?v=e0Ts_7Y6hZU\"\n",
        "            frameborder=\"0\"\n",
        "            allowfullscreen\n",
        "        ></iframe>\n",
        "        "
       ],
       "metadata": {},
       "output_type": "pyout",
       "prompt_number": 1,
       "text": [
        "<IPython.lib.display.YouTubeVideo at 0x2a13a10>"
       ]
      }
     ],
     "prompt_number": 1
    },
    {
     "cell_type": "markdown",
     "metadata": {},
     "source": [
      "### the softmax"
     ]
    },
    {
     "cell_type": "code",
     "collapsed": false,
     "input": [],
     "language": "python",
     "metadata": {},
     "outputs": []
    }
   ],
   "metadata": {}
  }
 ]
}